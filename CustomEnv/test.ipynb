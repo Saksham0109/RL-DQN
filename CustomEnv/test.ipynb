{
 "cells": [
  {
   "cell_type": "code",
   "execution_count": null,
   "metadata": {},
   "outputs": [],
   "source": [
    "from stable_baselines3 import DQN\n",
    "from env_v0 import *\n",
    "import sys\n",
    "\n",
    "num_agt = 1\n",
    "num_box = 1\n",
    "\n",
    "\n",
    "env = EnvPlot(num_agt,num_box,(10,10))"
   ]
  },
  {
   "cell_type": "code",
   "execution_count": null,
   "metadata": {},
   "outputs": [],
   "source": [
    "model = DQN(policy = \"MlpPolicy\",env =  env, verbose=1,tensorboard_log=\"DQNEnvPlot\")"
   ]
  },
  {
   "cell_type": "code",
   "execution_count": null,
   "metadata": {},
   "outputs": [],
   "source": [
    "model.learn(total_timesteps=1000000,tb_log_name=\"first_run\")"
   ]
  },
  {
   "cell_type": "code",
   "execution_count": null,
   "metadata": {},
   "outputs": [],
   "source": [
    "obs = env.reset()\n",
    "for i in range(100):\n",
    "    action, _state = model.predict(obs, deterministic=True)\n",
    "    print(action)\n",
    "    obs, reward, done, info = env.step(action)\n",
    "    env.render()\n",
    "    if done:\n",
    "      obs = env.reset() "
   ]
  }
 ],
 "metadata": {
  "kernelspec": {
   "display_name": "Python 3.9.12 ('RL')",
   "language": "python",
   "name": "python3"
  },
  "language_info": {
   "codemirror_mode": {
    "name": "ipython",
    "version": 3
   },
   "file_extension": ".py",
   "mimetype": "text/x-python",
   "name": "python",
   "nbconvert_exporter": "python",
   "pygments_lexer": "ipython3",
   "version": "3.9.12"
  },
  "orig_nbformat": 4,
  "vscode": {
   "interpreter": {
    "hash": "2070c5131435e64915ea90deb81f12392f7964ea8fe444034525e252d38eab81"
   }
  }
 },
 "nbformat": 4,
 "nbformat_minor": 2
}
